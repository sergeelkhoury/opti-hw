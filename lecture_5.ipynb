{
 "cells": [
  {
   "cell_type": "code",
   "execution_count": 3,
   "metadata": {},
   "outputs": [
    {
     "name": "stdout",
     "output_type": "stream",
     "text": [
      "Optimal point: [0.28402367 0.27218935]\n",
      "Optimal value: 39.10059171597633\n",
      "Iterations: 1\n"
     ]
    }
   ],
   "source": [
    "import numpy as np\n",
    "\n",
    "# Constants\n",
    "A = len(\"Serge\")  # Number of letters in the given name\n",
    "B = len(\"ElKhoury\")  # Number of letters in the surname\n",
    "initial_point = np.array([-2*A, 2*B])\n",
    "tolerance = 10e-5\n",
    "\n",
    "# Function definition\n",
    "def f(x1, x2):\n",
    "    return A*x1**2 + B*x2**2 - 0.25*A*x1*x2 - 0.5*A*x1 - 0.5*B*x2 + A*B\n",
    "\n",
    "# Gradient of the function\n",
    "def gradient(x):\n",
    "    x1, x2 = x\n",
    "    df_dx1 = 2*A*x1 - 0.25*A*x2 - 0.5*A\n",
    "    df_dx2 = 2*B*x2 - 0.25*A*x1 - 0.5*B\n",
    "    return np.array([df_dx1, df_dx2])\n",
    "\n",
    "# Hessian of the function\n",
    "def hessian():\n",
    "    H = np.array([[2*A, -0.25*A],\n",
    "                  [-0.25*A, 2*B]])\n",
    "    return H\n",
    "\n",
    "# Newton's method\n",
    "def newton_method(initial_point, tolerance):\n",
    "    x = initial_point\n",
    "    H_inv = np.linalg.inv(hessian())\n",
    "    iteration = 0\n",
    "    \n",
    "    while True:\n",
    "        grad = gradient(x)\n",
    "        x_new = x - np.dot(H_inv, grad)\n",
    "        if np.linalg.norm(x_new - x) < tolerance:\n",
    "            break\n",
    "        x = x_new\n",
    "        iteration += 1\n",
    "    \n",
    "    return x, iteration\n",
    "\n",
    "# Run Newton's method\n",
    "optimal_point, iterations = newton_method(initial_point, tolerance)\n",
    "optimal_value = f(optimal_point[0], optimal_point[1])\n",
    "\n",
    "# Output results\n",
    "print(\"Optimal point:\", optimal_point)\n",
    "print(\"Optimal value:\", optimal_value)\n",
    "print(\"Iterations:\", iterations)\n",
    "\n"
   ]
  }
 ],
 "metadata": {
  "kernelspec": {
   "display_name": "venv",
   "language": "python",
   "name": "python3"
  },
  "language_info": {
   "codemirror_mode": {
    "name": "ipython",
    "version": 3
   },
   "file_extension": ".py",
   "mimetype": "text/x-python",
   "name": "python",
   "nbconvert_exporter": "python",
   "pygments_lexer": "ipython3",
   "version": "3.12.3"
  }
 },
 "nbformat": 4,
 "nbformat_minor": 2
}
