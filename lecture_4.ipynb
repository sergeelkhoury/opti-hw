{
 "cells": [
  {
   "cell_type": "code",
   "execution_count": 3,
   "metadata": {},
   "outputs": [
    {
     "name": "stdout",
     "output_type": "stream",
     "text": [
      "The minimum point is approximately at x = [0.28401366 0.27218735], with f(x) = 39.1006\n",
      "Converged in 131 iterations\n",
      "     Iteration         x1         x2         f(x)  Gradient Norm\n",
      "0            0 -10.000000  16.000000  2749.000000     291.490137\n",
      "1            1  -8.775000  13.355000  1966.856481     245.199585\n",
      "2            2  -7.705563  11.148513  1413.244921     206.396747\n",
      "3            3  -6.770650   9.308431  1020.856652     173.865262\n",
      "4            4  -5.952229   7.774449   742.308531     146.586368\n",
      "..         ...        ...        ...          ...            ...\n",
      "127        127   0.284009   0.272186    39.100592       0.000150\n",
      "128        128   0.284010   0.272187    39.100592       0.000135\n",
      "129        129   0.284011   0.272187    39.100592       0.000122\n",
      "130        130   0.284013   0.272187    39.100592       0.000110\n",
      "131        131   0.284014   0.272187    39.100592       0.000099\n",
      "\n",
      "[132 rows x 5 columns]\n"
     ]
    }
   ],
   "source": [
    "import numpy as np\n",
    "\n",
    "# Define the function and its gradient\n",
    "def f(x, A, B):\n",
    "    x1, x2 = x\n",
    "    return A * x1**2 + B * x2**2 - 0.25 * A * x1 * x2 - 0.5 * A * x1 - 0.5 * B * x2 + A * B\n",
    "\n",
    "def grad_f(x, A, B):\n",
    "    x1, x2 = x\n",
    "    dfdx1 = 2 * A * x1 - 0.25 * A * x2 - 0.5 * A\n",
    "    dfdx2 = 2 * B * x2 - 0.25 * A * x1 - 0.5 * B\n",
    "    return np.array([dfdx1, dfdx2])\n",
    "\n",
    "# Parameters\n",
    "A = len(\"Serge\") \n",
    "B = len(\"ElKhoury\") \n",
    "initial_point = np.array([-2 * A, 2 * B])\n",
    "tolerance = 1e-4\n",
    "max_iterations = 1000\n",
    "alpha = 0.01  # Step size\n",
    "\n",
    "# Steepest descent method\n",
    "x = initial_point\n",
    "iterations_data = []\n",
    "\n",
    "for i in range(max_iterations):\n",
    "    gradient = grad_f(x, A, B)\n",
    "    iterations_data.append((i, x[0], x[1], f(x, A, B), np.linalg.norm(gradient)))\n",
    "    if np.linalg.norm(gradient) < tolerance:\n",
    "        break\n",
    "    x = x - alpha * gradient\n",
    "\n",
    "# Results\n",
    "minimum_point = x\n",
    "minimum_value = f(x, A, B)\n",
    "\n",
    "print(f\"The minimum point is approximately at x = {minimum_point}, with f(x) = {minimum_value:.4f}\")\n",
    "print(f\"Converged in {i} iterations\")\n",
    "\n",
    "# Display the results\n",
    "import pandas as pd\n",
    "\n",
    "# Creating a dataframe to show the iterations and convergence\n",
    "df = pd.DataFrame(iterations_data, columns=['Iteration', 'x1', 'x2', 'f(x)', 'Gradient Norm'])\n",
    "print(df)"
   ]
  }
 ],
 "metadata": {
  "kernelspec": {
   "display_name": "venv",
   "language": "python",
   "name": "python3"
  },
  "language_info": {
   "codemirror_mode": {
    "name": "ipython",
    "version": 3
   },
   "file_extension": ".py",
   "mimetype": "text/x-python",
   "name": "python",
   "nbconvert_exporter": "python",
   "pygments_lexer": "ipython3",
   "version": "3.12.3"
  }
 },
 "nbformat": 4,
 "nbformat_minor": 2
}
