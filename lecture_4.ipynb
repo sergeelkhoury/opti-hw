{
 "cells": [
  {
   "cell_type": "code",
   "execution_count": 72,
   "metadata": {},
   "outputs": [
    {
     "name": "stdout",
     "output_type": "stream",
     "text": [
      "Minimum point: [0.28401366 0.27218735]\n",
      "Number of iterations: 131\n"
     ]
    }
   ],
   "source": [
    "import numpy as np\n",
    "\n",
    "# Define the function f(x1, x2)\n",
    "def f(x1, x2, A, B):\n",
    "    return A*x1**2 + B*x2**2 - 0.25*A*x1*x2 - 0.5*A*x1 - 0.5*B*x2 + A*B\n",
    "\n",
    "# Compute the gradient of f\n",
    "def gradient_f(x1, x2, A, B):\n",
    "    df_dx1 = 2*A*x1 - 0.25*A*x2 - 0.5*A\n",
    "    df_dx2 = 2*B*x2 - 0.25*A*x1 - 0.5*B\n",
    "    return np.array([df_dx1, df_dx2])\n",
    "\n",
    "# Steepest descent method\n",
    "def steepest_descent(A, B, initial_point, tol=1e-4, max_iter=1000):\n",
    "    x = np.array(initial_point, dtype=float)\n",
    "    iterations = 0\n",
    "    alpha = 0.01\n",
    "\n",
    "    while iterations < max_iter:\n",
    "        grad = gradient_f(x[0], x[1], A, B)\n",
    "        grad_norm = np.linalg.norm(grad)\n",
    "\n",
    "        if grad_norm < tol:\n",
    "            break\n",
    "\n",
    "        # Use polynomial approximation to compute alpha\n",
    "        # We need three points: x, x + h*grad, x - h*grad\n",
    "        h = 0.01\n",
    "        x1 = x\n",
    "        f1 = f(x1[0], x1[1], A, B)\n",
    "        \n",
    "        x2 = x + h*grad\n",
    "        f2 = f(x2[0], x2[1], A, B)\n",
    "        \n",
    "        x3 = x - h*grad\n",
    "        f3 = f(x3[0], x3[1], A, B)\n",
    "        \n",
    "        # Fit a parabola through the points (0, f1), (h, f2), (-h, f3)\n",
    "        a = (f2 - 2*f1 + f3) / (2 * h**2)\n",
    "        b = (f2 - f3) / (2 * h)\n",
    "\n",
    "\n",
    "        \n",
    "        \n",
    "        #Avoid division by zero or invalid alpha due to numerical errors or overflows\n",
    "        if np.isnan(alpha) or np.isinf(alpha) or alpha <= 0:\n",
    "            alpha = h\n",
    "        \n",
    "        # Update the point\n",
    "        x = x - alpha * grad\n",
    "        iterations += 1\n",
    "\n",
    "    return x, iterations\n",
    "\n",
    "# Given name and surname\n",
    "A = len(\"Serge\")\n",
    "B = len(\"ElKhoury\")  \n",
    "\n",
    "# Initial point\n",
    "initial_point = [-2*A, 2*B]\n",
    "\n",
    "# Compute the minimum using the steepest descent method\n",
    "minimum, iterations = steepest_descent(A, B, initial_point)\n",
    "\n",
    "print(f\"Minimum point: {minimum}\")\n",
    "print(f\"Number of iterations: {iterations}\")"
   ]
  }
 ],
 "metadata": {
  "kernelspec": {
   "display_name": "venv",
   "language": "python",
   "name": "python3"
  },
  "language_info": {
   "codemirror_mode": {
    "name": "ipython",
    "version": 3
   },
   "file_extension": ".py",
   "mimetype": "text/x-python",
   "name": "python",
   "nbconvert_exporter": "python",
   "pygments_lexer": "ipython3",
   "version": "3.12.3"
  }
 },
 "nbformat": 4,
 "nbformat_minor": 2
}
